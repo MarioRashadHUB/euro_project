{
 "cells": [
  {
   "cell_type": "markdown",
   "id": "4c0b9228",
   "metadata": {},
   "source": [
    "# I. Setting Up Search Results"
   ]
  },
  {
   "cell_type": "markdown",
   "id": "0c366fef",
   "metadata": {},
   "source": [
    "### Importing Necessary Libraries"
   ]
  },
  {
   "cell_type": "code",
   "execution_count": 1,
   "id": "ef9f8485",
   "metadata": {},
   "outputs": [],
   "source": [
    "from selenium import webdriver\n",
    "from selenium.webdriver.common.keys import Keys\n",
    "import time"
   ]
  },
  {
   "cell_type": "markdown",
   "id": "be68015a",
   "metadata": {},
   "source": [
    "### Opens Browser"
   ]
  },
  {
   "cell_type": "code",
   "execution_count": 2,
   "id": "256e407e",
   "metadata": {},
   "outputs": [
    {
     "name": "stderr",
     "output_type": "stream",
     "text": [
      "/tmp/ipykernel_297172/215294497.py:1: DeprecationWarning: executable_path has been deprecated, please pass in a Service object\n",
      "  driver = webdriver.Chrome(executable_path='/home/rashad/Documents/Data Science Projects/chromedriver')\n"
     ]
    }
   ],
   "source": [
    "driver = webdriver.Chrome(executable_path='/home/rashad/Documents/Data Science Projects/chromedriver')\n",
    "\n",
    "driver.get('https://www.autotempest.com/')\n",
    "\n",
    "driver.maximize_window()\n",
    "time.sleep(2)"
   ]
  },
  {
   "cell_type": "markdown",
   "id": "ebc63fe7",
   "metadata": {},
   "source": [
    "### Inputs Vehicle Make"
   ]
  },
  {
   "cell_type": "code",
   "execution_count": 3,
   "id": "6365ee8e",
   "metadata": {},
   "outputs": [
    {
     "name": "stderr",
     "output_type": "stream",
     "text": [
      "/tmp/ipykernel_297172/3571360044.py:1: DeprecationWarning: find_element_by_* commands are deprecated. Please use find_element() instead\n",
      "  car_make = driver.find_element_by_id('make-input')\n"
     ]
    }
   ],
   "source": [
    "car_make = driver.find_element_by_id('make-input')\n",
    "car_make.send_keys('BMW')\n",
    "car_make.send_keys(Keys.RETURN)"
   ]
  },
  {
   "cell_type": "markdown",
   "id": "877dc7f1",
   "metadata": {},
   "source": [
    "### Inputs Zip Code"
   ]
  },
  {
   "cell_type": "code",
   "execution_count": 4,
   "id": "af37cf00",
   "metadata": {},
   "outputs": [
    {
     "name": "stderr",
     "output_type": "stream",
     "text": [
      "/tmp/ipykernel_297172/3038658587.py:1: DeprecationWarning: find_element_by_* commands are deprecated. Please use find_element() instead\n",
      "  zip_code = driver.find_element_by_id('zip')\n"
     ]
    }
   ],
   "source": [
    "zip_code = driver.find_element_by_id('zip')\n",
    "zip_code.send_keys('18330')"
   ]
  },
  {
   "cell_type": "markdown",
   "id": "17238ea8",
   "metadata": {},
   "source": [
    "### Sets Distance to Nationwide"
   ]
  },
  {
   "cell_type": "code",
   "execution_count": 5,
   "id": "98e4f6a1",
   "metadata": {},
   "outputs": [
    {
     "name": "stderr",
     "output_type": "stream",
     "text": [
      "/tmp/ipykernel_297172/3802937379.py:1: DeprecationWarning: find_element_by_* commands are deprecated. Please use find_element() instead\n",
      "  distance_box = driver.find_element_by_id('radius')\n",
      "/tmp/ipykernel_297172/3802937379.py:4: DeprecationWarning: find_element_by_* commands are deprecated. Please use find_element() instead\n",
      "  distance_input = driver.find_element_by_id('localization_country')\n"
     ]
    }
   ],
   "source": [
    "distance_box = driver.find_element_by_id('radius')\n",
    "distance_box.click()\n",
    "\n",
    "distance_input = driver.find_element_by_id('localization_country')\n",
    "distance_input.click()\n",
    "time.sleep(1)"
   ]
  },
  {
   "cell_type": "markdown",
   "id": "8e71cc4d",
   "metadata": {},
   "source": [
    "### Execute Search"
   ]
  },
  {
   "cell_type": "code",
   "execution_count": 6,
   "id": "b66cdfdb",
   "metadata": {},
   "outputs": [
    {
     "name": "stderr",
     "output_type": "stream",
     "text": [
      "/tmp/ipykernel_297172/3483558498.py:1: DeprecationWarning: find_element_by_class_name is deprecated. Please use find_element(by=By.CLASS_NAME, value=name) instead\n",
      "  search_btn = driver.find_element_by_class_name(\"submit\")\n"
     ]
    }
   ],
   "source": [
    "search_btn = driver.find_element_by_class_name(\"submit\")\n",
    "search_btn.click()"
   ]
  },
  {
   "cell_type": "markdown",
   "id": "6bfc3d63",
   "metadata": {},
   "source": [
    "# II. Scrape Data "
   ]
  },
  {
   "cell_type": "code",
   "execution_count": 7,
   "id": "8b17e717",
   "metadata": {
    "scrolled": true
   },
   "outputs": [
    {
     "data": {
      "text/plain": [
       "\"\\ntry    - scrape data\\nexcept - print 'no data found to scrape'\\n\\n    try    - click on more results button \\n           - execute / call function to continue scraping data       \\n    except - print 'button not found'\\n    \\nfinally - print 'scraper finished'\\n\""
      ]
     },
     "execution_count": 7,
     "metadata": {},
     "output_type": "execute_result"
    }
   ],
   "source": [
    "## Planning:\n",
    "\n",
    "# 1. Loop through each listing and scrape data using a try except statement.\n",
    "    \n",
    "\n",
    "# 2.   Once listings stop, use a another try statement to attempt to click on button on \"more other results button\".\n",
    "# 2.1  If button is there. repeat step 1\n",
    "# 2.2  If button is not there, end scraping.\n",
    "\n",
    "\n",
    "# Rough idea of the application\n",
    "'''\n",
    "try    - scrape data\n",
    "except - print 'no data found to scrape'\n",
    "\n",
    "    try    - click on more results button \n",
    "           - execute / call function to continue scraping data       \n",
    "    except - print 'button not found'\n",
    "    \n",
    "finally - print 'scraper finished'\n",
    "'''"
   ]
  },
  {
   "cell_type": "markdown",
   "id": "69b1c10e",
   "metadata": {},
   "source": [
    "### Building Scraper"
   ]
  },
  {
   "cell_type": "code",
   "execution_count": 8,
   "id": "4a53cb9e",
   "metadata": {},
   "outputs": [
    {
     "ename": "SyntaxError",
     "evalue": "EOF while scanning triple-quoted string literal (3868395045.py, line 8)",
     "output_type": "error",
     "traceback": [
      "\u001b[0;36m  File \u001b[0;32m\"/tmp/ipykernel_297172/3868395045.py\"\u001b[0;36m, line \u001b[0;32m8\u001b[0m\n\u001b[0;31m    driver.quit()\u001b[0m\n\u001b[0m                 \n^\u001b[0m\n\u001b[0;31mSyntaxError\u001b[0m\u001b[0;31m:\u001b[0m EOF while scanning triple-quoted string literal\n"
     ]
    }
   ],
   "source": [
    "'''''\n",
    "time.sleep(4)\n",
    "\n",
    "try:\n",
    "    car_name = driver.find_element_by_class_name(\"listing-link source-link\")\n",
    "except:\n",
    "    print(\"error here\")\n",
    "    driver.quit()"
   ]
  },
  {
   "cell_type": "code",
   "execution_count": null,
   "id": "3c33a87f",
   "metadata": {},
   "outputs": [],
   "source": []
  },
  {
   "cell_type": "code",
   "execution_count": null,
   "id": "cb4917eb",
   "metadata": {},
   "outputs": [],
   "source": []
  },
  {
   "cell_type": "code",
   "execution_count": null,
   "id": "4ed8c8d9",
   "metadata": {},
   "outputs": [],
   "source": []
  }
 ],
 "metadata": {
  "kernelspec": {
   "display_name": "Python 3 (ipykernel)",
   "language": "python",
   "name": "python3"
  },
  "language_info": {
   "codemirror_mode": {
    "name": "ipython",
    "version": 3
   },
   "file_extension": ".py",
   "mimetype": "text/x-python",
   "name": "python",
   "nbconvert_exporter": "python",
   "pygments_lexer": "ipython3",
   "version": "3.9.7"
  }
 },
 "nbformat": 4,
 "nbformat_minor": 5
}
