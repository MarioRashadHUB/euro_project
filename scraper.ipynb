{
 "cells": [
  {
   "cell_type": "markdown",
   "id": "4c0b9228",
   "metadata": {},
   "source": [
    "# Scraping Data"
   ]
  },
  {
   "cell_type": "code",
   "execution_count": 6,
   "id": "ef9f8485",
   "metadata": {},
   "outputs": [],
   "source": [
    "from selenium import webdriver\n",
    "import time"
   ]
  },
  {
   "cell_type": "code",
   "execution_count": 27,
   "id": "256e407e",
   "metadata": {},
   "outputs": [
    {
     "name": "stderr",
     "output_type": "stream",
     "text": [
      "/tmp/ipykernel_242377/3465538735.py:1: DeprecationWarning: executable_path has been deprecated, please pass in a Service object\n",
      "  driver = webdriver.Chrome(executable_path='/home/rashad/Documents/Data Science Projects/chromedriver')\n"
     ]
    },
    {
     "ename": "AttributeError",
     "evalue": "'WebDriver' object has no attribute 'find_element_by_css'",
     "output_type": "error",
     "traceback": [
      "\u001b[0;31m---------------------------------------------------------------------------\u001b[0m",
      "\u001b[0;31mAttributeError\u001b[0m                            Traceback (most recent call last)",
      "\u001b[0;32m/tmp/ipykernel_242377/3465538735.py\u001b[0m in \u001b[0;36m<module>\u001b[0;34m\u001b[0m\n\u001b[1;32m     10\u001b[0m \u001b[0;31m#car_make.send_keys('BMW')\u001b[0m\u001b[0;34m\u001b[0m\u001b[0;34m\u001b[0m\u001b[0m\n\u001b[1;32m     11\u001b[0m \u001b[0;34m\u001b[0m\u001b[0m\n\u001b[0;32m---> 12\u001b[0;31m \u001b[0melement\u001b[0m \u001b[0;34m=\u001b[0m \u001b[0mdriver\u001b[0m\u001b[0;34m.\u001b[0m\u001b[0mfind_element_by_css\u001b[0m\u001b[0;34m(\u001b[0m\u001b[0;34m'div[class*=\"multi-select__placeholder\"]'\u001b[0m\u001b[0;34m)\u001b[0m\u001b[0;34m\u001b[0m\u001b[0;34m\u001b[0m\u001b[0m\n\u001b[0m\u001b[1;32m     13\u001b[0m \u001b[0mdriver\u001b[0m\u001b[0;34m.\u001b[0m\u001b[0mexecute_script\u001b[0m\u001b[0;34m(\u001b[0m\u001b[0;34m\"arguments[0].click();\"\u001b[0m\u001b[0;34m,\u001b[0m \u001b[0melement\u001b[0m\u001b[0;34m)\u001b[0m\u001b[0;34m\u001b[0m\u001b[0;34m\u001b[0m\u001b[0m\n\u001b[1;32m     14\u001b[0m \u001b[0;34m\u001b[0m\u001b[0m\n",
      "\u001b[0;31mAttributeError\u001b[0m: 'WebDriver' object has no attribute 'find_element_by_css'"
     ]
    }
   ],
   "source": [
    "driver = webdriver.Chrome(executable_path='/home/rashad/Documents/Data Science Projects/chromedriver')\n",
    "\n",
    "driver.get('https://www.autotempest.com/')\n",
    "\n",
    "driver.maximize_window()\n",
    "time.sleep(5)\n",
    "\n",
    "#car_make = driver.find_element_by_id('make-input')\n",
    "#car_make.click()\n",
    "#car_make.send_keys('BMW')\n",
    "\n",
    "element = driver.find_element_by_css('div[class*=\"multi-select__placeholder\"]')\n",
    "driver.execute_script(\"arguments[0].click();\", element)\n",
    "\n",
    "element.send_keys('BMW')\n",
    "\n",
    "\n"
   ]
  },
  {
   "cell_type": "code",
   "execution_count": 26,
   "id": "a88338ca",
   "metadata": {},
   "outputs": [
    {
     "data": {
      "text/plain": [
       "[<selenium.webdriver.remote.webelement.WebElement (session=\"e571df75a1c638c7f8f5f82d8c9aa384\", element=\"c4d1aaad-e640-4768-a44b-3086d38150ee\")>,\n",
       " <selenium.webdriver.remote.webelement.WebElement (session=\"e571df75a1c638c7f8f5f82d8c9aa384\", element=\"999f7339-c1cc-483b-ace0-c4de9935ec13\")>,\n",
       " <selenium.webdriver.remote.webelement.WebElement (session=\"e571df75a1c638c7f8f5f82d8c9aa384\", element=\"677177d2-a924-41cc-8673-ee5e997a4986\")>,\n",
       " <selenium.webdriver.remote.webelement.WebElement (session=\"e571df75a1c638c7f8f5f82d8c9aa384\", element=\"0dcb3e0f-83e0-4381-87bd-364d76f5b486\")>,\n",
       " <selenium.webdriver.remote.webelement.WebElement (session=\"e571df75a1c638c7f8f5f82d8c9aa384\", element=\"2960679f-8383-4571-917f-0a6fac873481\")>,\n",
       " <selenium.webdriver.remote.webelement.WebElement (session=\"e571df75a1c638c7f8f5f82d8c9aa384\", element=\"87394eec-08c1-4431-9f98-7d7f66708bf6\")>,\n",
       " <selenium.webdriver.remote.webelement.WebElement (session=\"e571df75a1c638c7f8f5f82d8c9aa384\", element=\"f38cafa5-62fa-424c-8e13-8684abe3abe0\")>,\n",
       " <selenium.webdriver.remote.webelement.WebElement (session=\"e571df75a1c638c7f8f5f82d8c9aa384\", element=\"04cf7b89-f726-4e00-80ff-7253b7bed803\")>]"
      ]
     },
     "execution_count": 26,
     "metadata": {},
     "output_type": "execute_result"
    }
   ],
   "source": [
    "elm"
   ]
  },
  {
   "cell_type": "code",
   "execution_count": null,
   "id": "c710b80b",
   "metadata": {},
   "outputs": [],
   "source": []
  }
 ],
 "metadata": {
  "kernelspec": {
   "display_name": "Python 3 (ipykernel)",
   "language": "python",
   "name": "python3"
  },
  "language_info": {
   "codemirror_mode": {
    "name": "ipython",
    "version": 3
   },
   "file_extension": ".py",
   "mimetype": "text/x-python",
   "name": "python",
   "nbconvert_exporter": "python",
   "pygments_lexer": "ipython3",
   "version": "3.9.7"
  }
 },
 "nbformat": 4,
 "nbformat_minor": 5
}
