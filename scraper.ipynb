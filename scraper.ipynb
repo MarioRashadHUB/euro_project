{
 "cells": [
  {
   "cell_type": "markdown",
   "id": "4c0b9228",
   "metadata": {},
   "source": [
    "# Scraping Data"
   ]
  },
  {
   "cell_type": "code",
   "execution_count": 1,
   "id": "ef9f8485",
   "metadata": {},
   "outputs": [],
   "source": [
    "from selenium import webdriver\n",
    "from selenium.webdriver.common.keys import Keys\n",
    "import time"
   ]
  },
  {
   "cell_type": "code",
   "execution_count": 2,
   "id": "256e407e",
   "metadata": {},
   "outputs": [
    {
     "name": "stderr",
     "output_type": "stream",
     "text": [
      "/tmp/ipykernel_418686/1798466242.py:1: DeprecationWarning: executable_path has been deprecated, please pass in a Service object\n",
      "  driver = webdriver.Chrome(executable_path='/home/rashad/Documents/Data Science Projects/chromedriver')\n",
      "/tmp/ipykernel_418686/1798466242.py:14: DeprecationWarning: find_element_by_* commands are deprecated. Please use find_element() instead\n",
      "  car_make = driver.find_element_by_id('make-input')\n"
     ]
    }
   ],
   "source": [
    "driver = webdriver.Chrome(executable_path='/home/rashad/Documents/Data Science Projects/chromedriver')\n",
    "\n",
    "driver.get('https://www.autotempest.com/')\n",
    "\n",
    "driver.maximize_window()\n",
    "time.sleep(5)\n",
    "\n",
    "'''\n",
    "car_make = driver.find_element_by_id('make-input')\n",
    "car_make.click()\n",
    "car_make.send_keys('BMW')\n",
    "'''\n",
    "\n",
    "car_make = driver.find_element_by_id('make-input')\n",
    "car_make.send_keys('BMW')\n",
    "car_make.send_keys(Keys.RETURN)\n",
    "\n",
    "\n",
    "\n"
   ]
  },
  {
   "cell_type": "code",
   "execution_count": 3,
   "id": "af37cf00",
   "metadata": {},
   "outputs": [
    {
     "name": "stderr",
     "output_type": "stream",
     "text": [
      "/tmp/ipykernel_418686/3218594527.py:1: DeprecationWarning: find_element_by_* commands are deprecated. Please use find_element() instead\n",
      "  zip_code = driver.find_element_by_id('zip')\n"
     ]
    }
   ],
   "source": [
    "zip_code = driver.find_element_by_id('zip')\n",
    "zip_code.send_keys('18330')\n"
   ]
  },
  {
   "cell_type": "code",
   "execution_count": null,
   "id": "e315e5a1",
   "metadata": {},
   "outputs": [],
   "source": []
  },
  {
   "cell_type": "code",
   "execution_count": 4,
   "id": "b66cdfdb",
   "metadata": {},
   "outputs": [
    {
     "name": "stderr",
     "output_type": "stream",
     "text": [
      "/tmp/ipykernel_418686/511821707.py:1: DeprecationWarning: find_element_by_class_name is deprecated. Please use find_element(by=By.CLASS_NAME, value=name) instead\n",
      "  enter_btn = driver.find_element_by_class_name(\"submit\")\n"
     ]
    }
   ],
   "source": [
    "enter_btn = driver.find_element_by_class_name(\"submit\")"
   ]
  },
  {
   "cell_type": "code",
   "execution_count": 5,
   "id": "41693edf",
   "metadata": {},
   "outputs": [],
   "source": [
    "enter_btn.click()"
   ]
  },
  {
   "cell_type": "code",
   "execution_count": null,
   "id": "88a9e3a2",
   "metadata": {},
   "outputs": [],
   "source": []
  },
  {
   "cell_type": "code",
   "execution_count": 6,
   "id": "a88338ca",
   "metadata": {},
   "outputs": [],
   "source": [
    "time.sleep(15)"
   ]
  },
  {
   "cell_type": "code",
   "execution_count": 7,
   "id": "c710b80b",
   "metadata": {},
   "outputs": [],
   "source": [
    "driver.quit()"
   ]
  },
  {
   "cell_type": "code",
   "execution_count": null,
   "id": "7c93fef8",
   "metadata": {},
   "outputs": [],
   "source": []
  }
 ],
 "metadata": {
  "kernelspec": {
   "display_name": "Python 3 (ipykernel)",
   "language": "python",
   "name": "python3"
  },
  "language_info": {
   "codemirror_mode": {
    "name": "ipython",
    "version": 3
   },
   "file_extension": ".py",
   "mimetype": "text/x-python",
   "name": "python",
   "nbconvert_exporter": "python",
   "pygments_lexer": "ipython3",
   "version": "3.9.7"
  }
 },
 "nbformat": 4,
 "nbformat_minor": 5
}
