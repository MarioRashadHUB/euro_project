{
 "cells": [
  {
   "cell_type": "markdown",
   "id": "4c0b9228",
   "metadata": {},
   "source": [
    "# Scraping Data"
   ]
  },
  {
   "cell_type": "markdown",
   "id": "0c366fef",
   "metadata": {},
   "source": [
    "### Importing Necessary Libraries"
   ]
  },
  {
   "cell_type": "code",
   "execution_count": 1,
   "id": "ef9f8485",
   "metadata": {},
   "outputs": [],
   "source": [
    "from selenium import webdriver\n",
    "from selenium.webdriver.common.keys import Keys\n",
    "import time"
   ]
  },
  {
   "cell_type": "markdown",
   "id": "be68015a",
   "metadata": {},
   "source": [
    "### Opens Browser"
   ]
  },
  {
   "cell_type": "code",
   "execution_count": 2,
   "id": "256e407e",
   "metadata": {},
   "outputs": [
    {
     "name": "stderr",
     "output_type": "stream",
     "text": [
      "/tmp/ipykernel_466768/215294497.py:1: DeprecationWarning: executable_path has been deprecated, please pass in a Service object\n",
      "  driver = webdriver.Chrome(executable_path='/home/rashad/Documents/Data Science Projects/chromedriver')\n"
     ]
    }
   ],
   "source": [
    "driver = webdriver.Chrome(executable_path='/home/rashad/Documents/Data Science Projects/chromedriver')\n",
    "\n",
    "driver.get('https://www.autotempest.com/')\n",
    "\n",
    "driver.maximize_window()\n",
    "time.sleep(2)"
   ]
  },
  {
   "cell_type": "markdown",
   "id": "ebc63fe7",
   "metadata": {},
   "source": [
    "### Inputs Vehicle Make"
   ]
  },
  {
   "cell_type": "code",
   "execution_count": 3,
   "id": "6365ee8e",
   "metadata": {},
   "outputs": [
    {
     "name": "stderr",
     "output_type": "stream",
     "text": [
      "/tmp/ipykernel_466768/3571360044.py:1: DeprecationWarning: find_element_by_* commands are deprecated. Please use find_element() instead\n",
      "  car_make = driver.find_element_by_id('make-input')\n"
     ]
    }
   ],
   "source": [
    "car_make = driver.find_element_by_id('make-input')\n",
    "car_make.send_keys('BMW')\n",
    "car_make.send_keys(Keys.RETURN)"
   ]
  },
  {
   "cell_type": "markdown",
   "id": "877dc7f1",
   "metadata": {},
   "source": [
    "### Inputs Zip Code"
   ]
  },
  {
   "cell_type": "code",
   "execution_count": 4,
   "id": "af37cf00",
   "metadata": {},
   "outputs": [
    {
     "name": "stderr",
     "output_type": "stream",
     "text": [
      "/tmp/ipykernel_466768/3038658587.py:1: DeprecationWarning: find_element_by_* commands are deprecated. Please use find_element() instead\n",
      "  zip_code = driver.find_element_by_id('zip')\n"
     ]
    }
   ],
   "source": [
    "zip_code = driver.find_element_by_id('zip')\n",
    "zip_code.send_keys('18330')"
   ]
  },
  {
   "cell_type": "markdown",
   "id": "17238ea8",
   "metadata": {},
   "source": [
    "### Sets Search to Nationwide"
   ]
  },
  {
   "cell_type": "code",
   "execution_count": 5,
   "id": "98e4f6a1",
   "metadata": {},
   "outputs": [
    {
     "name": "stderr",
     "output_type": "stream",
     "text": [
      "/tmp/ipykernel_466768/2153074050.py:1: DeprecationWarning: find_element_by_* commands are deprecated. Please use find_element() instead\n",
      "  distance_box = driver.find_element_by_id('radius')\n",
      "/tmp/ipykernel_466768/2153074050.py:4: DeprecationWarning: find_element_by_* commands are deprecated. Please use find_element() instead\n",
      "  distance_input = driver.find_element_by_id('localization_country')\n"
     ]
    }
   ],
   "source": [
    "distance_box = driver.find_element_by_id('radius')\n",
    "distance_box.click()\n",
    "\n",
    "distance_input = driver.find_element_by_id('localization_country')\n",
    "distance_input.click()"
   ]
  },
  {
   "cell_type": "markdown",
   "id": "8e71cc4d",
   "metadata": {},
   "source": [
    "### Execute Search"
   ]
  },
  {
   "cell_type": "code",
   "execution_count": 6,
   "id": "b66cdfdb",
   "metadata": {},
   "outputs": [
    {
     "name": "stderr",
     "output_type": "stream",
     "text": [
      "/tmp/ipykernel_466768/3483558498.py:1: DeprecationWarning: find_element_by_class_name is deprecated. Please use find_element(by=By.CLASS_NAME, value=name) instead\n",
      "  search_btn = driver.find_element_by_class_name(\"submit\")\n"
     ]
    }
   ],
   "source": [
    "search_btn = driver.find_element_by_class_name(\"submit\")\n",
    "search_btn.click()"
   ]
  },
  {
   "cell_type": "code",
   "execution_count": null,
   "id": "41693edf",
   "metadata": {},
   "outputs": [],
   "source": []
  }
 ],
 "metadata": {
  "kernelspec": {
   "display_name": "Python 3 (ipykernel)",
   "language": "python",
   "name": "python3"
  },
  "language_info": {
   "codemirror_mode": {
    "name": "ipython",
    "version": 3
   },
   "file_extension": ".py",
   "mimetype": "text/x-python",
   "name": "python",
   "nbconvert_exporter": "python",
   "pygments_lexer": "ipython3",
   "version": "3.9.7"
  }
 },
 "nbformat": 4,
 "nbformat_minor": 5
}
