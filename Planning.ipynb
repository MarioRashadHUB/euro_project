{
 "cells": [
  {
   "cell_type": "markdown",
   "id": "f2d4a8fe",
   "metadata": {},
   "source": [
    "# 2022 European Car Price Project Outline"
   ]
  },
  {
   "cell_type": "markdown",
   "id": "31161017",
   "metadata": {},
   "source": [
    "## Step 1: Scrape Data from Autotempest.com using Selenium\n"
   ]
  },
  {
   "cell_type": "markdown",
   "id": "2ce48335",
   "metadata": {},
   "source": [
    "### Makes: \n",
    "\n",
    "### • BMW\n",
    "### • Audi\n",
    "### • Mercedes\n",
    "### • Audi\n",
    "### • Volkswagen\n"
   ]
  },
  {
   "cell_type": "markdown",
   "id": "7381f1eb",
   "metadata": {},
   "source": [
    "## Step 2: Clean Data"
   ]
  },
  {
   "cell_type": "code",
   "execution_count": null,
   "id": "1b2998ac",
   "metadata": {},
   "outputs": [],
   "source": []
  }
 ],
 "metadata": {
  "kernelspec": {
   "display_name": "Python 3 (ipykernel)",
   "language": "python",
   "name": "python3"
  },
  "language_info": {
   "codemirror_mode": {
    "name": "ipython",
    "version": 3
   },
   "file_extension": ".py",
   "mimetype": "text/x-python",
   "name": "python",
   "nbconvert_exporter": "python",
   "pygments_lexer": "ipython3",
   "version": "3.9.7"
  }
 },
 "nbformat": 4,
 "nbformat_minor": 5
}
